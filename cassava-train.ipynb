{
 "cells": [
  {
   "cell_type": "code",
   "execution_count": 1,
   "metadata": {
    "_cell_guid": "79c7e3d0-c299-4dcb-8224-4455121ee9b0",
    "_uuid": "d629ff2d2480ee46fbb7e2d37f6b5fab8052498a",
    "collapsed": true,
    "execution": {
     "iopub.execute_input": "2020-12-11T18:55:53.344800Z",
     "iopub.status.busy": "2020-12-11T18:55:53.343978Z",
     "iopub.status.idle": "2020-12-11T18:55:59.318716Z",
     "shell.execute_reply": "2020-12-11T18:55:59.317521Z"
    },
    "papermill": {
     "duration": 5.994963,
     "end_time": "2020-12-11T18:55:59.318858",
     "exception": false,
     "start_time": "2020-12-11T18:55:53.323895",
     "status": "completed"
    },
    "tags": []
   },
   "outputs": [],
   "source": [
    "import numpy as np\n",
    "import pandas as pd\n",
    "from PIL import Image\n",
    "import os\n",
    "import matplotlib.pyplot as plt\n",
    "import seaborn as sns\n",
    "from tqdm import tqdm\n",
    "from sklearn.utils import shuffle\n",
    "from sklearn.utils import class_weight\n",
    "from sklearn.preprocessing import minmax_scale\n",
    "import random\n",
    "import cv2\n",
    "\n",
    "\n",
    "import tensorflow as tf\n",
    "from tensorflow.keras.models import Sequential, Model\n",
    "from tensorflow.keras import layers, Input\n",
    "from tensorflow.keras.layers import Dense, Flatten, Dropout, Activation, BatchNormalization, GlobalAveragePooling2D\n",
    "from tensorflow.keras.callbacks import ModelCheckpoint,ReduceLROnPlateau, EarlyStopping\n",
    "from tensorflow.keras.utils import to_categorical\n",
    "from tensorflow.keras.applications import InceptionResNetV2\n",
    "from tensorflow.keras.applications.vgg16 import VGG16\n",
    "from tensorflow.keras.layers.experimental.preprocessing import RandomCrop,CenterCrop, RandomRotation"
   ]
  },
  {
   "cell_type": "code",
   "execution_count": 2,
   "metadata": {
    "execution": {
     "iopub.execute_input": "2020-12-11T18:55:59.344462Z",
     "iopub.status.busy": "2020-12-11T18:55:59.343797Z",
     "iopub.status.idle": "2020-12-11T18:55:59.399791Z",
     "shell.execute_reply": "2020-12-11T18:55:59.399130Z"
    },
    "papermill": {
     "duration": 0.072387,
     "end_time": "2020-12-11T18:55:59.399892",
     "exception": false,
     "start_time": "2020-12-11T18:55:59.327505",
     "status": "completed"
    },
    "tags": []
   },
   "outputs": [
    {
     "data": {
      "text/html": [
       "<div>\n",
       "<style scoped>\n",
       "    .dataframe tbody tr th:only-of-type {\n",
       "        vertical-align: middle;\n",
       "    }\n",
       "\n",
       "    .dataframe tbody tr th {\n",
       "        vertical-align: top;\n",
       "    }\n",
       "\n",
       "    .dataframe thead th {\n",
       "        text-align: right;\n",
       "    }\n",
       "</style>\n",
       "<table border=\"1\" class=\"dataframe\">\n",
       "  <thead>\n",
       "    <tr style=\"text-align: right;\">\n",
       "      <th></th>\n",
       "      <th>image_id</th>\n",
       "      <th>label</th>\n",
       "    </tr>\n",
       "  </thead>\n",
       "  <tbody>\n",
       "    <tr>\n",
       "      <th>2651</th>\n",
       "      <td>1461335818.jpg</td>\n",
       "      <td>3</td>\n",
       "    </tr>\n",
       "    <tr>\n",
       "      <th>473</th>\n",
       "      <td>108428649.jpg</td>\n",
       "      <td>3</td>\n",
       "    </tr>\n",
       "    <tr>\n",
       "      <th>16504</th>\n",
       "      <td>3966975834.jpg</td>\n",
       "      <td>2</td>\n",
       "    </tr>\n",
       "  </tbody>\n",
       "</table>\n",
       "</div>"
      ],
      "text/plain": [
       "             image_id  label\n",
       "2651   1461335818.jpg      3\n",
       "473     108428649.jpg      3\n",
       "16504  3966975834.jpg      2"
      ]
     },
     "metadata": {},
     "output_type": "display_data"
    },
    {
     "name": "stdout",
     "output_type": "stream",
     "text": [
      "(21397, 2)\n"
     ]
    }
   ],
   "source": [
    "df_train = pd.read_csv('../input/cassava-leaf-disease-classification/train.csv')\n",
    "df_sample = pd.read_csv('../input/cassava-leaf-disease-classification/sample_submission.csv')\n",
    "display(df_train.sample(3))\n",
    "print(df_train.shape)"
   ]
  },
  {
   "cell_type": "code",
   "execution_count": 3,
   "metadata": {
    "execution": {
     "iopub.execute_input": "2020-12-11T18:55:59.453893Z",
     "iopub.status.busy": "2020-12-11T18:55:59.449282Z",
     "iopub.status.idle": "2020-12-11T18:55:59.459416Z",
     "shell.execute_reply": "2020-12-11T18:55:59.458860Z"
    },
    "papermill": {
     "duration": 0.04915,
     "end_time": "2020-12-11T18:55:59.459512",
     "exception": false,
     "start_time": "2020-12-11T18:55:59.410362",
     "status": "completed"
    },
    "tags": []
   },
   "outputs": [
    {
     "data": {
      "text/html": [
       "<div>\n",
       "<style scoped>\n",
       "    .dataframe tbody tr th:only-of-type {\n",
       "        vertical-align: middle;\n",
       "    }\n",
       "\n",
       "    .dataframe tbody tr th {\n",
       "        vertical-align: top;\n",
       "    }\n",
       "\n",
       "    .dataframe thead th {\n",
       "        text-align: right;\n",
       "    }\n",
       "</style>\n",
       "<table border=\"1\" class=\"dataframe\">\n",
       "  <thead>\n",
       "    <tr style=\"text-align: right;\">\n",
       "      <th></th>\n",
       "      <th>image_id</th>\n",
       "      <th>label</th>\n",
       "    </tr>\n",
       "  </thead>\n",
       "  <tbody>\n",
       "    <tr>\n",
       "      <th>0</th>\n",
       "      <td>1000015157.jpg</td>\n",
       "      <td>0</td>\n",
       "    </tr>\n",
       "    <tr>\n",
       "      <th>1</th>\n",
       "      <td>1000201771.jpg</td>\n",
       "      <td>3</td>\n",
       "    </tr>\n",
       "    <tr>\n",
       "      <th>2</th>\n",
       "      <td>100042118.jpg</td>\n",
       "      <td>1</td>\n",
       "    </tr>\n",
       "    <tr>\n",
       "      <th>3</th>\n",
       "      <td>1000723321.jpg</td>\n",
       "      <td>1</td>\n",
       "    </tr>\n",
       "    <tr>\n",
       "      <th>4</th>\n",
       "      <td>1000812911.jpg</td>\n",
       "      <td>3</td>\n",
       "    </tr>\n",
       "  </tbody>\n",
       "</table>\n",
       "</div>"
      ],
      "text/plain": [
       "         image_id label\n",
       "0  1000015157.jpg     0\n",
       "1  1000201771.jpg     3\n",
       "2   100042118.jpg     1\n",
       "3  1000723321.jpg     1\n",
       "4  1000812911.jpg     3"
      ]
     },
     "metadata": {},
     "output_type": "display_data"
    }
   ],
   "source": [
    "df_train['label'] = df_train['label'].astype('str')\n",
    "display(df_train.head())"
   ]
  },
  {
   "cell_type": "code",
   "execution_count": 4,
   "metadata": {
    "execution": {
     "iopub.execute_input": "2020-12-11T18:55:59.486301Z",
     "iopub.status.busy": "2020-12-11T18:55:59.484440Z",
     "iopub.status.idle": "2020-12-11T18:55:59.486942Z",
     "shell.execute_reply": "2020-12-11T18:55:59.487412Z"
    },
    "papermill": {
     "duration": 0.017691,
     "end_time": "2020-12-11T18:55:59.487518",
     "exception": false,
     "start_time": "2020-12-11T18:55:59.469827",
     "status": "completed"
    },
    "tags": []
   },
   "outputs": [],
   "source": [
    "n_classes = 5\n",
    "batch_size = 64\n",
    "img_size = 224\n",
    "n_epochs = 30"
   ]
  },
  {
   "cell_type": "code",
   "execution_count": 5,
   "metadata": {
    "execution": {
     "iopub.execute_input": "2020-12-11T18:55:59.518020Z",
     "iopub.status.busy": "2020-12-11T18:55:59.517194Z",
     "iopub.status.idle": "2020-12-11T18:56:32.230355Z",
     "shell.execute_reply": "2020-12-11T18:56:32.231199Z"
    },
    "papermill": {
     "duration": 32.733273,
     "end_time": "2020-12-11T18:56:32.231407",
     "exception": false,
     "start_time": "2020-12-11T18:55:59.498134",
     "status": "completed"
    },
    "tags": []
   },
   "outputs": [
    {
     "name": "stdout",
     "output_type": "stream",
     "text": [
      "Found 18188 validated image filenames belonging to 5 classes.\n",
      "Found 3209 validated image filenames belonging to 5 classes.\n"
     ]
    }
   ],
   "source": [
    "from keras.preprocessing.image import ImageDataGenerator, array_to_img, img_to_array, load_img\n",
    "\n",
    "image_generator = ImageDataGenerator(\n",
    "        validation_split=0.15,\n",
    "        horizontal_flip=True,\n",
    "        vertical_flip = True,\n",
    "        rotation_range=30,\n",
    "        zoom_range = 0.25,\n",
    "        shear_range = 0.15,\n",
    "        fill_mode='nearest'\n",
    ")\n",
    "\n",
    "train_generator = image_generator.flow_from_dataframe(\n",
    "    dataframe = df_train,\n",
    "        directory='../input/cassava-leaf-disease-classification/train_images',\n",
    "        x_col = 'image_id',\n",
    "        y_col = 'label',     \n",
    "        target_size=(img_size, img_size),\n",
    "        batch_size=batch_size,\n",
    "        subset='training',\n",
    "        class_mode='sparse')\n",
    "\n",
    "\n",
    "\n",
    "image_generator_valid = ImageDataGenerator(validation_split=0.15)\n",
    "\n",
    "\n",
    "valid_generator=image_generator_valid.flow_from_dataframe(\n",
    "    dataframe = df_train,\n",
    "    directory='../input/cassava-leaf-disease-classification/train_images',\n",
    "    x_col = 'image_id',\n",
    "    y_col = 'label', \n",
    "    target_size=(img_size, img_size),\n",
    "    batch_size=batch_size,\n",
    "    subset='validation',\n",
    "    class_mode='sparse') "
   ]
  },
  {
   "cell_type": "code",
   "execution_count": 6,
   "metadata": {
    "execution": {
     "iopub.execute_input": "2020-12-11T18:56:32.263744Z",
     "iopub.status.busy": "2020-12-11T18:56:32.263125Z",
     "iopub.status.idle": "2020-12-11T18:56:36.433580Z",
     "shell.execute_reply": "2020-12-11T18:56:36.432368Z"
    },
    "papermill": {
     "duration": 4.189771,
     "end_time": "2020-12-11T18:56:36.433726",
     "exception": false,
     "start_time": "2020-12-11T18:56:32.243955",
     "status": "completed"
    },
    "tags": []
   },
   "outputs": [
    {
     "name": "stdout",
     "output_type": "stream",
     "text": [
      "Downloading data from https://storage.googleapis.com/tensorflow/keras-applications/vgg16/vgg16_weights_tf_dim_ordering_tf_kernels_notop.h5\n",
      "58892288/58889256 [==============================] - 1s 0us/step\n"
     ]
    }
   ],
   "source": [
    "base_model = VGG16(input_shape=(img_size,img_size,3),\n",
    "                  include_top=False,\n",
    "                  weights='imagenet')"
   ]
  },
  {
   "cell_type": "code",
   "execution_count": 7,
   "metadata": {
    "execution": {
     "iopub.execute_input": "2020-12-11T18:56:36.473965Z",
     "iopub.status.busy": "2020-12-11T18:56:36.471956Z",
     "iopub.status.idle": "2020-12-11T18:56:36.474716Z",
     "shell.execute_reply": "2020-12-11T18:56:36.475204Z"
    },
    "papermill": {
     "duration": 0.024677,
     "end_time": "2020-12-11T18:56:36.475338",
     "exception": false,
     "start_time": "2020-12-11T18:56:36.450661",
     "status": "completed"
    },
    "tags": []
   },
   "outputs": [],
   "source": [
    "for layer in base_model.layers:\n",
    "    layer.trainable = False"
   ]
  },
  {
   "cell_type": "code",
   "execution_count": 8,
   "metadata": {
    "execution": {
     "iopub.execute_input": "2020-12-11T18:56:36.517742Z",
     "iopub.status.busy": "2020-12-11T18:56:36.516825Z",
     "iopub.status.idle": "2020-12-11T18:56:36.602540Z",
     "shell.execute_reply": "2020-12-11T18:56:36.601113Z"
    },
    "papermill": {
     "duration": 0.111191,
     "end_time": "2020-12-11T18:56:36.602647",
     "exception": false,
     "start_time": "2020-12-11T18:56:36.491456",
     "status": "completed"
    },
    "tags": []
   },
   "outputs": [
    {
     "name": "stdout",
     "output_type": "stream",
     "text": [
      "Model: \"functional_1\"\n",
      "_________________________________________________________________\n",
      "Layer (type)                 Output Shape              Param #   \n",
      "=================================================================\n",
      "input_1 (InputLayer)         [(None, 224, 224, 3)]     0         \n",
      "_________________________________________________________________\n",
      "block1_conv1 (Conv2D)        (None, 224, 224, 64)      1792      \n",
      "_________________________________________________________________\n",
      "block1_conv2 (Conv2D)        (None, 224, 224, 64)      36928     \n",
      "_________________________________________________________________\n",
      "block1_pool (MaxPooling2D)   (None, 112, 112, 64)      0         \n",
      "_________________________________________________________________\n",
      "block2_conv1 (Conv2D)        (None, 112, 112, 128)     73856     \n",
      "_________________________________________________________________\n",
      "block2_conv2 (Conv2D)        (None, 112, 112, 128)     147584    \n",
      "_________________________________________________________________\n",
      "block2_pool (MaxPooling2D)   (None, 56, 56, 128)       0         \n",
      "_________________________________________________________________\n",
      "block3_conv1 (Conv2D)        (None, 56, 56, 256)       295168    \n",
      "_________________________________________________________________\n",
      "block3_conv2 (Conv2D)        (None, 56, 56, 256)       590080    \n",
      "_________________________________________________________________\n",
      "block3_conv3 (Conv2D)        (None, 56, 56, 256)       590080    \n",
      "_________________________________________________________________\n",
      "block3_pool (MaxPooling2D)   (None, 28, 28, 256)       0         \n",
      "_________________________________________________________________\n",
      "block4_conv1 (Conv2D)        (None, 28, 28, 512)       1180160   \n",
      "_________________________________________________________________\n",
      "block4_conv2 (Conv2D)        (None, 28, 28, 512)       2359808   \n",
      "_________________________________________________________________\n",
      "block4_conv3 (Conv2D)        (None, 28, 28, 512)       2359808   \n",
      "_________________________________________________________________\n",
      "block4_pool (MaxPooling2D)   (None, 14, 14, 512)       0         \n",
      "_________________________________________________________________\n",
      "block5_conv1 (Conv2D)        (None, 14, 14, 512)       2359808   \n",
      "_________________________________________________________________\n",
      "block5_conv2 (Conv2D)        (None, 14, 14, 512)       2359808   \n",
      "_________________________________________________________________\n",
      "block5_conv3 (Conv2D)        (None, 14, 14, 512)       2359808   \n",
      "_________________________________________________________________\n",
      "block5_pool (MaxPooling2D)   (None, 7, 7, 512)         0         \n",
      "_________________________________________________________________\n",
      "flatten (Flatten)            (None, 25088)             0         \n",
      "_________________________________________________________________\n",
      "dense (Dense)                (None, 512)               12845568  \n",
      "_________________________________________________________________\n",
      "dropout (Dropout)            (None, 512)               0         \n",
      "_________________________________________________________________\n",
      "dense_1 (Dense)              (None, 5)                 2565      \n",
      "=================================================================\n",
      "Total params: 27,562,821\n",
      "Trainable params: 12,848,133\n",
      "Non-trainable params: 14,714,688\n",
      "_________________________________________________________________\n"
     ]
    }
   ],
   "source": [
    "x = layers.Flatten()(base_model.output)\n",
    "x = layers.Dense(512,activation='relu')(x)\n",
    "x = layers.Dropout(0.5)(x)\n",
    "output = layers.Dense(n_classes,activation='softmax')(x)\n",
    "model = Model(base_model.input,output)\n",
    "model.summary()\n",
    "model.compile(optimizer=tf.keras.optimizers.Adam(lr=0.001),loss='sparse_categorical_crossentropy',metrics=['accuracy'])"
   ]
  },
  {
   "cell_type": "code",
   "execution_count": 9,
   "metadata": {
    "execution": {
     "iopub.execute_input": "2020-12-11T18:56:36.642903Z",
     "iopub.status.busy": "2020-12-11T18:56:36.642177Z",
     "iopub.status.idle": "2020-12-11T18:56:36.645166Z",
     "shell.execute_reply": "2020-12-11T18:56:36.645643Z"
    },
    "papermill": {
     "duration": 0.026162,
     "end_time": "2020-12-11T18:56:36.645760",
     "exception": false,
     "start_time": "2020-12-11T18:56:36.619598",
     "status": "completed"
    },
    "tags": []
   },
   "outputs": [],
   "source": [
    "rlr = ReduceLROnPlateau(monitor = 'val_accuracy', factor = 0.2, patience = 2, verbose = 0, \n",
    "                                min_delta = 0.0001, min_lr = 0.00001, mode = 'max')\n",
    "\n",
    "ckp = ModelCheckpoint('./model.h5',monitor = 'val_accuracy',\n",
    "                      verbose = 0, save_best_only = True, mode = 'max')\n",
    "\n",
    "es = EarlyStopping(monitor = 'val_accuracy', min_delta = 0.0001, patience = 5, mode = 'max', \n",
    "                    restore_best_weights = True, verbose = 0)"
   ]
  },
  {
   "cell_type": "code",
   "execution_count": 10,
   "metadata": {
    "execution": {
     "iopub.execute_input": "2020-12-11T18:56:36.685603Z",
     "iopub.status.busy": "2020-12-11T18:56:36.684953Z",
     "iopub.status.idle": "2020-12-11T19:39:07.288440Z",
     "shell.execute_reply": "2020-12-11T19:39:07.289608Z"
    },
    "papermill": {
     "duration": 2550.626885,
     "end_time": "2020-12-11T19:39:07.289885",
     "exception": false,
     "start_time": "2020-12-11T18:56:36.663000",
     "status": "completed"
    },
    "tags": []
   },
   "outputs": [
    {
     "name": "stdout",
     "output_type": "stream",
     "text": [
      "Epoch 1/30\n",
      "285/285 [==============================] - 509s 2s/step - loss: 3.9205 - accuracy: 0.5987 - val_loss: 0.9584 - val_accuracy: 0.6229\n",
      "Epoch 2/30\n",
      "285/285 [==============================] - 402s 1s/step - loss: 1.0921 - accuracy: 0.6170 - val_loss: 0.9262 - val_accuracy: 0.6220\n",
      "Epoch 3/30\n",
      "285/285 [==============================] - 409s 1s/step - loss: 1.0601 - accuracy: 0.6155 - val_loss: 0.9370 - val_accuracy: 0.6186\n",
      "Epoch 4/30\n",
      "285/285 [==============================] - 415s 1s/step - loss: 1.0282 - accuracy: 0.6152 - val_loss: 0.9276 - val_accuracy: 0.6201\n",
      "Epoch 5/30\n",
      "285/285 [==============================] - 410s 1s/step - loss: 1.0191 - accuracy: 0.6154 - val_loss: 0.9301 - val_accuracy: 0.6204\n",
      "Epoch 6/30\n",
      "285/285 [==============================] - 389s 1s/step - loss: 1.0065 - accuracy: 0.6151 - val_loss: 0.9284 - val_accuracy: 0.6208\n"
     ]
    }
   ],
   "source": [
    "history = model.fit_generator(generator=train_generator,                      \n",
    "                    validation_data=valid_generator,                                       \n",
    "                    epochs=n_epochs,\n",
    "                    callbacks=[rlr,es,ckp],\n",
    "                    verbose=1)"
   ]
  },
  {
   "cell_type": "code",
   "execution_count": 11,
   "metadata": {
    "execution": {
     "iopub.execute_input": "2020-12-11T19:39:08.503288Z",
     "iopub.status.busy": "2020-12-11T19:39:08.501857Z",
     "iopub.status.idle": "2020-12-11T19:39:08.904632Z",
     "shell.execute_reply": "2020-12-11T19:39:08.905197Z"
    },
    "papermill": {
     "duration": 1.015932,
     "end_time": "2020-12-11T19:39:08.905396",
     "exception": false,
     "start_time": "2020-12-11T19:39:07.889464",
     "status": "completed"
    },
    "tags": []
   },
   "outputs": [
    {
     "data": {
      "image/png": "[encoded data removed]",
      "text/plain": [
       "<Figure size 864x864 with 2 Axes>"
      ]
     },
     "metadata": {
      "needs_background": "light"
     },
     "output_type": "display_data"
    }
   ],
   "source": [
    "import matplotlib.pyplot as plt\n",
    "plt.rcParams.update({'font.size': 16})\n",
    "hist = pd.DataFrame(history.history)\n",
    "fig, (ax1, ax2) = plt.subplots(figsize=(12,12),nrows=2, ncols=1)\n",
    "hist['loss'].plot(ax=ax1,c='k',label='training loss')\n",
    "hist['val_loss'].plot(ax=ax1,c='r',linestyle='--', label='validation loss')\n",
    "ax1.legend()\n",
    "hist['accuracy'].plot(ax=ax2,c='k',label='training accuracy')\n",
    "hist['val_accuracy'].plot(ax=ax2,c='r',linestyle='--',label='validation accuracy')\n",
    "ax2.legend()\n",
    "plt.show()"
   ]
  }
 ],
 "metadata": {
  "kernelspec": {
   "display_name": "Python 3",
   "language": "python",
   "name": "python3"
  },
  "language_info": {
   "codemirror_mode": {
    "name": "ipython",
    "version": 3
   },
   "file_extension": ".py",
   "mimetype": "text/x-python",
   "name": "python",
   "nbconvert_exporter": "python",
   "pygments_lexer": "ipython3",
   "version": "3.7.6"
  },
  "papermill": {
   "duration": 2602.034242,
   "end_time": "2020-12-11T19:39:10.763537",
   "environment_variables": {},
   "exception": null,
   "input_path": "__notebook__.ipynb",
   "output_path": "__notebook__.ipynb",
   "parameters": {},
   "start_time": "2020-12-11T18:55:48.729295",
   "version": "2.1.0"
  }
 },
 "nbformat": 4,
 "nbformat_minor": 4
}
