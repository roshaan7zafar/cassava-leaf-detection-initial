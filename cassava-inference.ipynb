{
 "cells": [
  {
   "cell_type": "code",
   "execution_count": 1,
   "metadata": {
    "_cell_guid": "79c7e3d0-c299-4dcb-8224-4455121ee9b0",
    "_uuid": "d629ff2d2480ee46fbb7e2d37f6b5fab8052498a",
    "execution": {
     "iopub.execute_input": "2020-12-12T09:33:31.786416Z",
     "iopub.status.busy": "2020-12-12T09:33:31.785738Z",
     "iopub.status.idle": "2020-12-12T09:33:38.305278Z",
     "shell.execute_reply": "2020-12-12T09:33:38.303525Z"
    },
    "papermill": {
     "duration": 6.528786,
     "end_time": "2020-12-12T09:33:38.305437",
     "exception": false,
     "start_time": "2020-12-12T09:33:31.776651",
     "status": "completed"
    },
    "tags": []
   },
   "outputs": [],
   "source": [
    "import pandas as pd \n",
    "import numpy as np\n",
    "import os\n",
    "\n",
    "import keras\n",
    "from keras.models import load_model\n",
    "from PIL import Image"
   ]
  },
  {
   "cell_type": "code",
   "execution_count": 2,
   "metadata": {
    "execution": {
     "iopub.execute_input": "2020-12-12T09:33:38.321921Z",
     "iopub.status.busy": "2020-12-12T09:33:38.321107Z",
     "iopub.status.idle": "2020-12-12T09:33:41.586123Z",
     "shell.execute_reply": "2020-12-12T09:33:41.585398Z"
    },
    "papermill": {
     "duration": 3.275044,
     "end_time": "2020-12-12T09:33:41.586245",
     "exception": false,
     "start_time": "2020-12-12T09:33:38.311201",
     "status": "completed"
    },
    "tags": []
   },
   "outputs": [],
   "source": [
    "model = load_model('../input/cassava-train/model.h5')"
   ]
  },
  {
   "cell_type": "code",
   "execution_count": 3,
   "metadata": {
    "execution": {
     "iopub.execute_input": "2020-12-12T09:33:41.605568Z",
     "iopub.status.busy": "2020-12-12T09:33:41.604789Z",
     "iopub.status.idle": "2020-12-12T09:33:42.290668Z",
     "shell.execute_reply": "2020-12-12T09:33:42.290138Z"
    },
    "papermill": {
     "duration": 0.697401,
     "end_time": "2020-12-12T09:33:42.290805",
     "exception": false,
     "start_time": "2020-12-12T09:33:41.593404",
     "status": "completed"
    },
    "tags": []
   },
   "outputs": [],
   "source": [
    "img_size = 224\n",
    "test_images = os.listdir('../input/cassava-leaf-disease-classification/test_images')\n",
    "y_preds = []\n",
    "\n",
    "for i in test_images:\n",
    "    image = Image.open(f'../input/cassava-leaf-disease-classification/test_images/{i}')\n",
    "    image = image.resize((img_size, img_size))\n",
    "    image = np.expand_dims(image, axis=0)\n",
    "    y_preds.append(np.argmax(model.predict(image)))"
   ]
  },
  {
   "cell_type": "code",
   "execution_count": 4,
   "metadata": {
    "execution": {
     "iopub.execute_input": "2020-12-12T09:33:42.322313Z",
     "iopub.status.busy": "2020-12-12T09:33:42.321605Z",
     "iopub.status.idle": "2020-12-12T09:33:42.331417Z",
     "shell.execute_reply": "2020-12-12T09:33:42.331925Z"
    },
    "papermill": {
     "duration": 0.036232,
     "end_time": "2020-12-12T09:33:42.332082",
     "exception": false,
     "start_time": "2020-12-12T09:33:42.295850",
     "status": "completed"
    },
    "tags": []
   },
   "outputs": [
    {
     "data": {
      "text/html": [
       "<div>\n",
       "<style scoped>\n",
       "    .dataframe tbody tr th:only-of-type {\n",
       "        vertical-align: middle;\n",
       "    }\n",
       "\n",
       "    .dataframe tbody tr th {\n",
       "        vertical-align: top;\n",
       "    }\n",
       "\n",
       "    .dataframe thead th {\n",
       "        text-align: right;\n",
       "    }\n",
       "</style>\n",
       "<table border=\"1\" class=\"dataframe\">\n",
       "  <thead>\n",
       "    <tr style=\"text-align: right;\">\n",
       "      <th></th>\n",
       "      <th>image_id</th>\n",
       "      <th>label</th>\n",
       "    </tr>\n",
       "  </thead>\n",
       "  <tbody>\n",
       "    <tr>\n",
       "      <th>0</th>\n",
       "      <td>2216849948.jpg</td>\n",
       "      <td>3</td>\n",
       "    </tr>\n",
       "  </tbody>\n",
       "</table>\n",
       "</div>"
      ],
      "text/plain": [
       "         image_id  label\n",
       "0  2216849948.jpg      3"
      ]
     },
     "metadata": {},
     "output_type": "display_data"
    }
   ],
   "source": [
    "df_sub = pd.DataFrame({'image_id': test_images, 'label': y_preds})\n",
    "display(df_sub)"
   ]
  },
  {
   "cell_type": "code",
   "execution_count": 5,
   "metadata": {
    "execution": {
     "iopub.execute_input": "2020-12-12T09:33:42.348589Z",
     "iopub.status.busy": "2020-12-12T09:33:42.347949Z",
     "iopub.status.idle": "2020-12-12T09:33:42.746529Z",
     "shell.execute_reply": "2020-12-12T09:33:42.745883Z"
    },
    "papermill": {
     "duration": 0.408576,
     "end_time": "2020-12-12T09:33:42.746647",
     "exception": false,
     "start_time": "2020-12-12T09:33:42.338071",
     "status": "completed"
    },
    "tags": []
   },
   "outputs": [],
   "source": [
    "df_sub.to_csv('submission.csv',index=False)"
   ]
  }
 ],
 "metadata": {
  "kernelspec": {
   "display_name": "Python 3",
   "language": "python",
   "name": "python3"
  },
  "language_info": {
   "codemirror_mode": {
    "name": "ipython",
    "version": 3
   },
   "file_extension": ".py",
   "mimetype": "text/x-python",
   "name": "python",
   "nbconvert_exporter": "python",
   "pygments_lexer": "ipython3",
   "version": "3.7.6"
  },
  "papermill": {
   "duration": 16.987249,
   "end_time": "2020-12-12T09:33:43.775031",
   "environment_variables": {},
   "exception": null,
   "input_path": "__notebook__.ipynb",
   "output_path": "__notebook__.ipynb",
   "parameters": {},
   "start_time": "2020-12-12T09:33:26.787782",
   "version": "2.1.0"
  }
 },
 "nbformat": 4,
 "nbformat_minor": 4
}
